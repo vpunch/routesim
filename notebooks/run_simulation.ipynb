{
 "cells": [
  {
   "cell_type": "code",
   "execution_count": 1,
   "metadata": {},
   "outputs": [],
   "source": [
    "%matplotlib inline"
   ]
  },
  {
   "cell_type": "code",
   "execution_count": 2,
   "metadata": {},
   "outputs": [],
   "source": [
    "# Стандартная библиотека\n",
    "import sys\n",
    "import traceback\n",
    "import logging\n",
    "import contextlib\n",
    "from multiprocessing.pool import Pool\n",
    "\n",
    "# Сторонние пакеты\n",
    "import yaml  # pyyaml\n",
    "import matplotlib.pyplot as plt\n",
    "import seaborn as sns\n",
    "import torch\n",
    "import torch.nn as nn\n",
    "from torch import multiprocessing as mp\n",
    "import numpy as np\n",
    "import pandas as pd\n",
    "#from tqdm import tqdm_notebook  # индикатор прогресса"
   ]
  },
  {
   "cell_type": "code",
   "execution_count": 3,
   "metadata": {},
   "outputs": [
    {
     "ename": "ModuleNotFoundError",
     "evalue": "No module named 'dqnroute'",
     "output_type": "error",
     "traceback": [
      "\u001b[0;31m---------------------------------------------------------------------------\u001b[0m",
      "\u001b[0;31mModuleNotFoundError\u001b[0m                       Traceback (most recent call last)",
      "\u001b[0;32m<ipython-input-3-92da35d653ff>\u001b[0m in \u001b[0;36m<module>\u001b[0;34m\u001b[0m\n\u001b[1;32m      2\u001b[0m \u001b[0mget_ipython\u001b[0m\u001b[0;34m(\u001b[0m\u001b[0;34m)\u001b[0m\u001b[0;34m.\u001b[0m\u001b[0mrun_line_magic\u001b[0m\u001b[0;34m(\u001b[0m\u001b[0;34m'autoreload'\u001b[0m\u001b[0;34m,\u001b[0m \u001b[0;34m'2'\u001b[0m\u001b[0;34m)\u001b[0m\u001b[0;34m\u001b[0m\u001b[0;34m\u001b[0m\u001b[0m\n\u001b[1;32m      3\u001b[0m \u001b[0;34m\u001b[0m\u001b[0m\n\u001b[0;32m----> 4\u001b[0;31m \u001b[0;32mfrom\u001b[0m \u001b[0mdqnroute\u001b[0m \u001b[0;32mimport\u001b[0m \u001b[0mdelivperiods\u001b[0m\u001b[0;34m,\u001b[0m \u001b[0mComputerNetEnv\u001b[0m\u001b[0;34m,\u001b[0m \u001b[0mMAIN_LOGGER\u001b[0m\u001b[0;34m\u001b[0m\u001b[0;34m\u001b[0m\u001b[0m\n\u001b[0m",
      "\u001b[0;31mModuleNotFoundError\u001b[0m: No module named 'dqnroute'"
     ]
    }
   ],
   "source": [
    "%load_ext autoreload\n",
    "%autoreload 2\n",
    "\n",
    "from dqnroute import delivperiods, ComputerNetEnv, MAIN_LOGGER"
   ]
  },
  {
   "cell_type": "code",
   "execution_count": null,
   "metadata": {},
   "outputs": [],
   "source": [
    "logger = logging.getLogger(MAIN_LOGGER)"
   ]
  },
  {
   "cell_type": "code",
   "execution_count": null,
   "metadata": {},
   "outputs": [],
   "source": [
    "plt.rc('font', size=14)\n",
    "\n",
    "# Построение графиков\n",
    "def plot_data(data, figsize=(15,10), xlim=None, ylim=None, target='avg', name=None):\n",
    "    fig = plt.figure(figsize=figsize)\n",
    "    \n",
    "    # Данные типа pandas.DataFrame, x и y содержат названия нужных столбцов\n",
    "    ax = sns.lineplot(x='time', y=target, hue='router_type', data=data)\n",
    "    ax.set(xlabel=\"Simulation time\", ylabel=\"Mean delivery time\")\n",
    "    ax.legend(['Q', 'Link-state'], title='Router type');\n",
    "\n",
    "    if xlim is not None:\n",
    "        plt.xlim(xlim)\n",
    "        \n",
    "    if ylim is not None:\n",
    "        plt.ylim(ylim)\n",
    "        \n",
    "    plt.show()\n",
    "    \n",
    "    if name is not None:\n",
    "        # Директория ../img должна быть создана\n",
    "        fig.savefig('../img/' + name, bbox_inches='tight')\n",
    "\n",
    "\n",
    "# Связать результат с экспериментом\n",
    "def get_job_id(router_type, seed):\n",
    "    return f'{router_type}:{seed}'\n",
    "\n",
    "\n",
    "def parse_job_id(job_id):\n",
    "    router_type, seed = job_id.split(':')\n",
    "    return router_type, int(seed)\n",
    "\n",
    "\n",
    "# Добавить столбец к результатам, значения определяются построчно\n",
    "def add_avg(df: pd.DataFrame):\n",
    "    df['avg'] = df['sum'] / df['count']\n",
    "    return df\n",
    "\n",
    "\n",
    "def combine_launch_data(launch_data):\n",
    "    dfs = []\n",
    "    for job_id, data in launch_data.items():\n",
    "        router_type, seed = parse_job_id(job_id)\n",
    "        df = data.copy()\n",
    "        \n",
    "        # Добавляем новые столбцы с информацией о роутере и сиде\n",
    "        df['router_type'] = router_type\n",
    "        df['seed'] = seed\n",
    "        \n",
    "        dfs.append(df)\n",
    "        \n",
    "    # Склеиваем результаты разных экспериментов по горизонтали (друг под другом)\n",
    "    res = pd.concat(dfs, axis=0)\n",
    "    return res"
   ]
  },
  {
   "cell_type": "code",
   "execution_count": null,
   "metadata": {},
   "outputs": [],
   "source": [
    "def run_network_scenario_file(file: str,  # файл со структурой графа и настройками алгоритмов\n",
    "                              router_type: str,\n",
    "                              random_seed: int = None,\n",
    "                              period_dur: int = 500,\n",
    "                              period_aggrs: list[str] = ['count', 'sum', 'min', 'max']):\n",
    "    # Обертка вокруг NetworkEnvironment для запуска в отдельном потоке\n",
    "    \n",
    "    with open(file) as f:\n",
    "        run_params = yaml.safe_load(f)\n",
    "    \n",
    "    # Агрегатор данных\n",
    "    periods = delivperiods.create_periods(period_dur, period_aggrs)\n",
    "   \n",
    "    env = ComputerNetEnv(run_params=run_params,\n",
    "                     router_type=router_type,\n",
    "                     deliv_periods=periods)\n",
    " \n",
    "    # Запуск симуляции\n",
    "    series = env.run(random_seed=random_seed)\n",
    "    \n",
    "    #print(series.records.head())\n",
    "    #   time    count  sum     min   max\n",
    "    #0     0.0   47.0  1941.0   5.0  72.0\n",
    "    #1   500.0   49.0  1808.0   5.0  70.0\n",
    "    #2  1000.0   49.0  2519.0  21.0  85.0\n",
    "    #3  1500.0   50.0  2683.0  21.0  85.0\n",
    "    #4  2000.0   49.0  2730.0  21.0  90.0\n",
    "        \n",
    "    return add_avg(periods.get_periods())\n",
    "\n",
    "def exc_print(e):\n",
    "    print(''.join(traceback.format_exception(etype=type(e), value=e, tb=e.__traceback__)))\n",
    "\n",
    "def run_threaded(func, router_types: list[str], random_seeds: list[int], *args, **kwargs): \n",
    "    pool = Pool()\n",
    "    jobs = {}\n",
    "    for router_type in router_types:\n",
    "        for seed in random_seeds:\n",
    "            job_id = get_job_id(router_type, seed)\n",
    "            job_args = dict(kwargs, router_type=router_type, random_seed=seed)\n",
    "            jobs[job_id] = pool.apply_async(func, args=args, kwds=job_args,\n",
    "                                            error_callback=exc_print)\n",
    "        \n",
    "    results = {job_id: job.get() for (job_id, job) in jobs.items()}\n",
    "    \n",
    "    return results"
   ]
  },
  {
   "cell_type": "code",
   "execution_count": null,
   "metadata": {},
   "outputs": [],
   "source": [
    "launch6_data_mult = run_threaded(run_network_scenario_file,\n",
    "                                 file='../launches/launch6.yaml',\n",
    "                                 router_types=['simple_q', 'link_state'],\n",
    "                                 random_seeds=[42, 43, 44])\n",
    "\n",
    "launch6_data_comb = combine_launch_data(launch6_data_mult)"
   ]
  },
  {
   "cell_type": "code",
   "execution_count": null,
   "metadata": {},
   "outputs": [],
   "source": [
    "plot_data(launch6_data_comb, ylim=(0,140), name=\"load-increase\")\n"
   ]
  },
  {
   "cell_type": "code",
   "execution_count": null,
   "metadata": {},
   "outputs": [],
   "source": [
    "launch8_data = run_threaded(run_network_scenario_file,\n",
    "                            file='../launches/launch8.yaml',\n",
    "                            router_types=['simple_q', 'link_state'],\n",
    "                            random_seeds=[42, 43, 44])\n",
    "\n",
    "launch8_data_comb = combine_launch_data(launch8_data)"
   ]
  },
  {
   "cell_type": "code",
   "execution_count": null,
   "metadata": {},
   "outputs": [],
   "source": [
    "plot_data(launch8_data_comb, name=\"link-break\")"
   ]
  },
  {
   "cell_type": "code",
   "execution_count": null,
   "metadata": {},
   "outputs": [],
   "source": []
  }
 ],
 "metadata": {
  "kernelspec": {
   "display_name": "routesim-env",
   "language": "python",
   "name": "routesim-env"
  },
  "language_info": {
   "codemirror_mode": {
    "name": "ipython",
    "version": 3
   },
   "file_extension": ".py",
   "mimetype": "text/x-python",
   "name": "python",
   "nbconvert_exporter": "python",
   "pygments_lexer": "ipython3",
   "version": "3.9.5"
  }
 },
 "nbformat": 4,
 "nbformat_minor": 2
}
